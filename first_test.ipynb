{
  "nbformat": 4,
  "nbformat_minor": 0,
  "metadata": {
    "colab": {
      "name": "first test.ipynb",
      "provenance": [],
      "authorship_tag": "ABX9TyPS1g3mrqvMDIyCN5NPKgLO",
      "include_colab_link": true
    },
    "kernelspec": {
      "name": "python3",
      "display_name": "Python 3"
    },
    "language_info": {
      "name": "python"
    }
  },
  "cells": [
    {
      "cell_type": "markdown",
      "metadata": {
        "id": "view-in-github",
        "colab_type": "text"
      },
      "source": [
        "<a href=\"https://colab.research.google.com/github/choejeongsik/python-practice/blob/main/first_test.ipynb\" target=\"_parent\"><img src=\"https://colab.research.google.com/assets/colab-badge.svg\" alt=\"Open In Colab\"/></a>"
      ]
    },
    {
      "cell_type": "code",
      "execution_count": 2,
      "metadata": {
        "id": "u2_ELxaxgMp2",
        "colab": {
          "base_uri": "https://localhost:8080/"
        },
        "outputId": "3a4bca5c-435b-4e1b-a89d-41d92d170dd2"
      },
      "outputs": [
        {
          "output_type": "stream",
          "name": "stdout",
          "text": [
            "12\n"
          ]
        }
      ],
      "source": [
        "#my first line\n",
        "a=7\n",
        "c=a+5\n",
        "print(c)"
      ]
    }
  ]
}